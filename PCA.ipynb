{
 "cells": [
  {
   "cell_type": "markdown",
   "metadata": {},
   "source": [
    "### Importação, 1ª exploração e pré-tratamento\n",
    "Objetivo: buscar problemas no dataset survey da empresa BookMe para pré tratá-lo"
   ]
  },
  {
   "cell_type": "markdown",
   "metadata": {},
   "source": [
    "| Attribute | Description |\n",
    "| ---------- | --------- |\n",
    "|Name | Customer’s name |\n",
    "|Year Birth | Customer’s birth year |\n",
    "|Longevity | Whether the customer registered more than 1 year ago or not (yes or no)|\n",
    "|Churn| Whether the customer churned or not (churn or nochurn) - stopped using|\n",
    "|TypeTravel| Customer’s reason for travelling (business or leisure)\n",
    "|RoomType |Type of room reserved\n",
    "|RewardPoints| Customer’s rewarding point for loyalty\n",
    "|Comfort| Satisfaction level of customer regarding comfort of the room (0 to 5)\n",
    "|ReceptionSchedule| Satisfaction level of customer regarding reception schedule (0 to 5)\n",
    "|FoodDrink |Satisfaction level of customer regarding food and drink available (0 to 5)\n",
    "|Location| Satisfaction level of customer regarding accommodation location (0 to 5)\n",
    "|Wifi |Satisfaction level of customer regarding wi-fi service (0 to 5)\n",
    "|Amenities| Satisfaction level of customer regarding accommodation amenities (0 to 5)\n",
    "|Staff| Satisfaction level of customer regarding staff (0 to 5)\n",
    "|OnlineBooking |Satisfaction level of customer regarding online booking ease (0 to 5)\n",
    "|PriceQuality| Satisfaction level of customer regarding price quality relationship (0 to 5)\n",
    "|RoomSpace| Satisfaction level of customer regarding room space (0 to 5)\n",
    "|CheckOut| Satisfaction level of customer regarding check-out (0 to 5)\n",
    "|CheckIn| Satisfaction level of customer regarding check-in (0 to 5)\n",
    "|Cleanliness| Satisfaction level of customer regarding cleanliness (0 to 5)\n",
    "|BarService| Satisfaction level of customer regarding bar service (0 to 5"
   ]
  },
  {
   "cell_type": "code",
   "execution_count": 116,
   "metadata": {},
   "outputs": [
    {
     "data": {
      "text/html": [
       "<div>\n",
       "<style scoped>\n",
       "    .dataframe tbody tr th:only-of-type {\n",
       "        vertical-align: middle;\n",
       "    }\n",
       "\n",
       "    .dataframe tbody tr th {\n",
       "        vertical-align: top;\n",
       "    }\n",
       "\n",
       "    .dataframe thead th {\n",
       "        text-align: right;\n",
       "    }\n",
       "</style>\n",
       "<table border=\"1\" class=\"dataframe\">\n",
       "  <thead>\n",
       "    <tr style=\"text-align: right;\">\n",
       "      <th></th>\n",
       "      <th>Churn</th>\n",
       "      <th>Name</th>\n",
       "      <th>Longevity</th>\n",
       "      <th>Year_Birth</th>\n",
       "      <th>TypeTravel</th>\n",
       "      <th>RoomType</th>\n",
       "      <th>RewardPoints</th>\n",
       "      <th>Comfort</th>\n",
       "      <th>ReceptionSchedule</th>\n",
       "      <th>FoodDrink</th>\n",
       "      <th>...</th>\n",
       "      <th>Wifi</th>\n",
       "      <th>Amenities</th>\n",
       "      <th>Staff</th>\n",
       "      <th>OnlineBooking</th>\n",
       "      <th>PriceQuality</th>\n",
       "      <th>RoomSpace</th>\n",
       "      <th>CheckOut</th>\n",
       "      <th>Checkin</th>\n",
       "      <th>Cleanliness</th>\n",
       "      <th>BarService</th>\n",
       "    </tr>\n",
       "  </thead>\n",
       "  <tbody>\n",
       "    <tr>\n",
       "      <th>0</th>\n",
       "      <td>churn</td>\n",
       "      <td>Ms. Nicole Clarke</td>\n",
       "      <td>yes</td>\n",
       "      <td>1974.0</td>\n",
       "      <td>business</td>\n",
       "      <td>single</td>\n",
       "      <td>4907</td>\n",
       "      <td>3</td>\n",
       "      <td>4</td>\n",
       "      <td>1</td>\n",
       "      <td>...</td>\n",
       "      <td>4</td>\n",
       "      <td>3</td>\n",
       "      <td>4</td>\n",
       "      <td>3</td>\n",
       "      <td>3</td>\n",
       "      <td>3</td>\n",
       "      <td>3</td>\n",
       "      <td>4</td>\n",
       "      <td>3</td>\n",
       "      <td>4</td>\n",
       "    </tr>\n",
       "    <tr>\n",
       "      <th>1</th>\n",
       "      <td>nochurn</td>\n",
       "      <td>Mr. Jesse Scott</td>\n",
       "      <td>yes</td>\n",
       "      <td>1965.0</td>\n",
       "      <td>business</td>\n",
       "      <td>single</td>\n",
       "      <td>6724</td>\n",
       "      <td>1</td>\n",
       "      <td>1</td>\n",
       "      <td>1</td>\n",
       "      <td>...</td>\n",
       "      <td>5</td>\n",
       "      <td>3</td>\n",
       "      <td>4</td>\n",
       "      <td>5</td>\n",
       "      <td>5</td>\n",
       "      <td>5</td>\n",
       "      <td>5</td>\n",
       "      <td>1</td>\n",
       "      <td>5</td>\n",
       "      <td>2</td>\n",
       "    </tr>\n",
       "    <tr>\n",
       "      <th>2</th>\n",
       "      <td>churn</td>\n",
       "      <td>Mr. Christopher Carter</td>\n",
       "      <td>yes</td>\n",
       "      <td>1973.0</td>\n",
       "      <td>business</td>\n",
       "      <td>single</td>\n",
       "      <td>4365</td>\n",
       "      <td>3</td>\n",
       "      <td>3</td>\n",
       "      <td>3</td>\n",
       "      <td>...</td>\n",
       "      <td>1</td>\n",
       "      <td>4</td>\n",
       "      <td>4</td>\n",
       "      <td>3</td>\n",
       "      <td>3</td>\n",
       "      <td>2</td>\n",
       "      <td>3</td>\n",
       "      <td>2</td>\n",
       "      <td>3</td>\n",
       "      <td>1</td>\n",
       "    </tr>\n",
       "    <tr>\n",
       "      <th>3</th>\n",
       "      <td>nochurn</td>\n",
       "      <td>Ms. Jennifer Morgan</td>\n",
       "      <td>yes</td>\n",
       "      <td>1993.0</td>\n",
       "      <td>leisure</td>\n",
       "      <td>double</td>\n",
       "      <td>3849</td>\n",
       "      <td>1</td>\n",
       "      <td>1</td>\n",
       "      <td>1</td>\n",
       "      <td>...</td>\n",
       "      <td>4</td>\n",
       "      <td>4</td>\n",
       "      <td>5</td>\n",
       "      <td>4</td>\n",
       "      <td>4</td>\n",
       "      <td>4</td>\n",
       "      <td>4</td>\n",
       "      <td>4</td>\n",
       "      <td>4</td>\n",
       "      <td>3</td>\n",
       "    </tr>\n",
       "    <tr>\n",
       "      <th>4</th>\n",
       "      <td>nochurn</td>\n",
       "      <td>Mr. Michael White</td>\n",
       "      <td>yes</td>\n",
       "      <td>1989.0</td>\n",
       "      <td>business</td>\n",
       "      <td>single</td>\n",
       "      <td>5376</td>\n",
       "      <td>2</td>\n",
       "      <td>2</td>\n",
       "      <td>3</td>\n",
       "      <td>...</td>\n",
       "      <td>5</td>\n",
       "      <td>5</td>\n",
       "      <td>5</td>\n",
       "      <td>5</td>\n",
       "      <td>5</td>\n",
       "      <td>3</td>\n",
       "      <td>4</td>\n",
       "      <td>1</td>\n",
       "      <td>3</td>\n",
       "      <td>5</td>\n",
       "    </tr>\n",
       "  </tbody>\n",
       "</table>\n",
       "<p>5 rows × 21 columns</p>\n",
       "</div>"
      ],
      "text/plain": [
       "     Churn                    Name Longevity  Year_Birth TypeTravel RoomType  \\\n",
       "0    churn       Ms. Nicole Clarke       yes      1974.0   business   single   \n",
       "1  nochurn         Mr. Jesse Scott       yes      1965.0   business   single   \n",
       "2    churn  Mr. Christopher Carter       yes      1973.0   business   single   \n",
       "3  nochurn     Ms. Jennifer Morgan       yes      1993.0    leisure   double   \n",
       "4  nochurn       Mr. Michael White       yes      1989.0   business   single   \n",
       "\n",
       "   RewardPoints  Comfort  ReceptionSchedule  FoodDrink  ...  Wifi  Amenities  \\\n",
       "0          4907        3                  4          1  ...     4          3   \n",
       "1          6724        1                  1          1  ...     5          3   \n",
       "2          4365        3                  3          3  ...     1          4   \n",
       "3          3849        1                  1          1  ...     4          4   \n",
       "4          5376        2                  2          3  ...     5          5   \n",
       "\n",
       "   Staff  OnlineBooking  PriceQuality  RoomSpace  CheckOut  Checkin  \\\n",
       "0      4              3             3          3         3        4   \n",
       "1      4              5             5          5         5        1   \n",
       "2      4              3             3          2         3        2   \n",
       "3      5              4             4          4         4        4   \n",
       "4      5              5             5          3         4        1   \n",
       "\n",
       "   Cleanliness  BarService  \n",
       "0            3           4  \n",
       "1            5           2  \n",
       "2            3           1  \n",
       "3            4           3  \n",
       "4            3           5  \n",
       "\n",
       "[5 rows x 21 columns]"
      ]
     },
     "execution_count": 116,
     "metadata": {},
     "output_type": "execute_result"
    }
   ],
   "source": [
    "df = pd.read_csv(\"cluster.csv\")\n",
    "df.head()"
   ]
  },
  {
   "cell_type": "markdown",
   "metadata": {},
   "source": [
    "Observa-se a seguir que:\n",
    "1. Ano de nascimento como float64 invés de int64.\n",
    "2. Ano de nascimento possui NULL's."
   ]
  },
  {
   "cell_type": "markdown",
   "metadata": {},
   "source": [
    "<a id='prod_pca'></a>\n",
    "\n",
    "### 4.1.1.  Prespétiva da Satisfação "
   ]
  },
  {
   "cell_type": "markdown",
   "metadata": {},
   "source": [
    "##### MC\n",
    "\n",
    "Numa perspetiva de satisfação vamos procurar identificar as variaveis mais relevantes, com recurso a aplicação do PCA.\n",
    "\n",
    "Utiliza-se o PCA com o objetivo de reduzir o número de variáveis, no entanto tem que se manter o minimo de informação. O PCA é um método para reduzir a dimensão dos dados. Escolhendo as variáveis mais importantes."
   ]
  },
  {
   "cell_type": "markdown",
   "metadata": {},
   "source": []
  },
  {
   "cell_type": "code",
   "execution_count": 35,
   "metadata": {},
   "outputs": [
    {
     "data": {
      "text/plain": [
       "Index(['Churn', 'Name', 'Longevity', 'Age', 'TypeTravel', 'RoomType',\n",
       "       'RewardPoints', 'Comfort', 'ReceptionSchedule', 'FoodDrink', 'Location',\n",
       "       'Wifi', 'Amenities', 'Staff', 'OnlineBooking', 'PriceQuality',\n",
       "       'RoomSpace', 'CheckOut', 'Checkin', 'Cleanliness', 'BarService',\n",
       "       'Overall', 'Gender'],\n",
       "      dtype='object')"
      ]
     },
     "execution_count": 35,
     "metadata": {},
     "output_type": "execute_result"
    }
   ],
   "source": [
    "df.columns"
   ]
  },
  {
   "cell_type": "code",
   "execution_count": 36,
   "metadata": {},
   "outputs": [
    {
     "data": {
      "text/html": [
       "<div>\n",
       "<style scoped>\n",
       "    .dataframe tbody tr th:only-of-type {\n",
       "        vertical-align: middle;\n",
       "    }\n",
       "\n",
       "    .dataframe tbody tr th {\n",
       "        vertical-align: top;\n",
       "    }\n",
       "\n",
       "    .dataframe thead th {\n",
       "        text-align: right;\n",
       "    }\n",
       "</style>\n",
       "<table border=\"1\" class=\"dataframe\">\n",
       "  <thead>\n",
       "    <tr style=\"text-align: right;\">\n",
       "      <th></th>\n",
       "      <th>Comfort</th>\n",
       "      <th>ReceptionSchedule</th>\n",
       "      <th>FoodDrink</th>\n",
       "      <th>Location</th>\n",
       "      <th>Wifi</th>\n",
       "      <th>Amenities</th>\n",
       "      <th>Staff</th>\n",
       "      <th>OnlineBooking</th>\n",
       "      <th>PriceQuality</th>\n",
       "      <th>RoomSpace</th>\n",
       "      <th>CheckOut</th>\n",
       "      <th>Checkin</th>\n",
       "      <th>Cleanliness</th>\n",
       "      <th>BarService</th>\n",
       "    </tr>\n",
       "  </thead>\n",
       "  <tbody>\n",
       "    <tr>\n",
       "      <th>0</th>\n",
       "      <td>3</td>\n",
       "      <td>4</td>\n",
       "      <td>1</td>\n",
       "      <td>4</td>\n",
       "      <td>4</td>\n",
       "      <td>3</td>\n",
       "      <td>4</td>\n",
       "      <td>3</td>\n",
       "      <td>3</td>\n",
       "      <td>3</td>\n",
       "      <td>3</td>\n",
       "      <td>4</td>\n",
       "      <td>3</td>\n",
       "      <td>4</td>\n",
       "    </tr>\n",
       "    <tr>\n",
       "      <th>1</th>\n",
       "      <td>1</td>\n",
       "      <td>1</td>\n",
       "      <td>1</td>\n",
       "      <td>1</td>\n",
       "      <td>5</td>\n",
       "      <td>3</td>\n",
       "      <td>4</td>\n",
       "      <td>5</td>\n",
       "      <td>5</td>\n",
       "      <td>5</td>\n",
       "      <td>5</td>\n",
       "      <td>1</td>\n",
       "      <td>5</td>\n",
       "      <td>2</td>\n",
       "    </tr>\n",
       "    <tr>\n",
       "      <th>2</th>\n",
       "      <td>3</td>\n",
       "      <td>3</td>\n",
       "      <td>3</td>\n",
       "      <td>3</td>\n",
       "      <td>1</td>\n",
       "      <td>4</td>\n",
       "      <td>4</td>\n",
       "      <td>3</td>\n",
       "      <td>3</td>\n",
       "      <td>2</td>\n",
       "      <td>3</td>\n",
       "      <td>2</td>\n",
       "      <td>3</td>\n",
       "      <td>1</td>\n",
       "    </tr>\n",
       "    <tr>\n",
       "      <th>3</th>\n",
       "      <td>1</td>\n",
       "      <td>1</td>\n",
       "      <td>1</td>\n",
       "      <td>1</td>\n",
       "      <td>4</td>\n",
       "      <td>4</td>\n",
       "      <td>5</td>\n",
       "      <td>4</td>\n",
       "      <td>4</td>\n",
       "      <td>4</td>\n",
       "      <td>4</td>\n",
       "      <td>4</td>\n",
       "      <td>4</td>\n",
       "      <td>3</td>\n",
       "    </tr>\n",
       "    <tr>\n",
       "      <th>4</th>\n",
       "      <td>2</td>\n",
       "      <td>2</td>\n",
       "      <td>3</td>\n",
       "      <td>2</td>\n",
       "      <td>5</td>\n",
       "      <td>5</td>\n",
       "      <td>5</td>\n",
       "      <td>5</td>\n",
       "      <td>5</td>\n",
       "      <td>3</td>\n",
       "      <td>4</td>\n",
       "      <td>1</td>\n",
       "      <td>3</td>\n",
       "      <td>5</td>\n",
       "    </tr>\n",
       "    <tr>\n",
       "      <th>...</th>\n",
       "      <td>...</td>\n",
       "      <td>...</td>\n",
       "      <td>...</td>\n",
       "      <td>...</td>\n",
       "      <td>...</td>\n",
       "      <td>...</td>\n",
       "      <td>...</td>\n",
       "      <td>...</td>\n",
       "      <td>...</td>\n",
       "      <td>...</td>\n",
       "      <td>...</td>\n",
       "      <td>...</td>\n",
       "      <td>...</td>\n",
       "      <td>...</td>\n",
       "    </tr>\n",
       "    <tr>\n",
       "      <th>15584</th>\n",
       "      <td>2</td>\n",
       "      <td>0</td>\n",
       "      <td>2</td>\n",
       "      <td>2</td>\n",
       "      <td>3</td>\n",
       "      <td>2</td>\n",
       "      <td>4</td>\n",
       "      <td>3</td>\n",
       "      <td>4</td>\n",
       "      <td>5</td>\n",
       "      <td>1</td>\n",
       "      <td>3</td>\n",
       "      <td>4</td>\n",
       "      <td>3</td>\n",
       "    </tr>\n",
       "    <tr>\n",
       "      <th>15585</th>\n",
       "      <td>3</td>\n",
       "      <td>3</td>\n",
       "      <td>3</td>\n",
       "      <td>3</td>\n",
       "      <td>5</td>\n",
       "      <td>3</td>\n",
       "      <td>5</td>\n",
       "      <td>5</td>\n",
       "      <td>3</td>\n",
       "      <td>1</td>\n",
       "      <td>3</td>\n",
       "      <td>4</td>\n",
       "      <td>4</td>\n",
       "      <td>5</td>\n",
       "    </tr>\n",
       "    <tr>\n",
       "      <th>15586</th>\n",
       "      <td>1</td>\n",
       "      <td>1</td>\n",
       "      <td>1</td>\n",
       "      <td>1</td>\n",
       "      <td>3</td>\n",
       "      <td>4</td>\n",
       "      <td>5</td>\n",
       "      <td>4</td>\n",
       "      <td>4</td>\n",
       "      <td>4</td>\n",
       "      <td>4</td>\n",
       "      <td>5</td>\n",
       "      <td>4</td>\n",
       "      <td>4</td>\n",
       "    </tr>\n",
       "    <tr>\n",
       "      <th>15587</th>\n",
       "      <td>4</td>\n",
       "      <td>3</td>\n",
       "      <td>4</td>\n",
       "      <td>4</td>\n",
       "      <td>5</td>\n",
       "      <td>4</td>\n",
       "      <td>5</td>\n",
       "      <td>5</td>\n",
       "      <td>2</td>\n",
       "      <td>5</td>\n",
       "      <td>4</td>\n",
       "      <td>3</td>\n",
       "      <td>4</td>\n",
       "      <td>5</td>\n",
       "    </tr>\n",
       "    <tr>\n",
       "      <th>15588</th>\n",
       "      <td>3</td>\n",
       "      <td>3</td>\n",
       "      <td>3</td>\n",
       "      <td>3</td>\n",
       "      <td>3</td>\n",
       "      <td>3</td>\n",
       "      <td>3</td>\n",
       "      <td>3</td>\n",
       "      <td>4</td>\n",
       "      <td>5</td>\n",
       "      <td>4</td>\n",
       "      <td>1</td>\n",
       "      <td>3</td>\n",
       "      <td>3</td>\n",
       "    </tr>\n",
       "  </tbody>\n",
       "</table>\n",
       "<p>15355 rows × 14 columns</p>\n",
       "</div>"
      ],
      "text/plain": [
       "       Comfort  ReceptionSchedule  FoodDrink  Location  Wifi  Amenities  \\\n",
       "0            3                  4          1         4     4          3   \n",
       "1            1                  1          1         1     5          3   \n",
       "2            3                  3          3         3     1          4   \n",
       "3            1                  1          1         1     4          4   \n",
       "4            2                  2          3         2     5          5   \n",
       "...        ...                ...        ...       ...   ...        ...   \n",
       "15584        2                  0          2         2     3          2   \n",
       "15585        3                  3          3         3     5          3   \n",
       "15586        1                  1          1         1     3          4   \n",
       "15587        4                  3          4         4     5          4   \n",
       "15588        3                  3          3         3     3          3   \n",
       "\n",
       "       Staff  OnlineBooking  PriceQuality  RoomSpace  CheckOut  Checkin  \\\n",
       "0          4              3             3          3         3        4   \n",
       "1          4              5             5          5         5        1   \n",
       "2          4              3             3          2         3        2   \n",
       "3          5              4             4          4         4        4   \n",
       "4          5              5             5          3         4        1   \n",
       "...      ...            ...           ...        ...       ...      ...   \n",
       "15584      4              3             4          5         1        3   \n",
       "15585      5              5             3          1         3        4   \n",
       "15586      5              4             4          4         4        5   \n",
       "15587      5              5             2          5         4        3   \n",
       "15588      3              3             4          5         4        1   \n",
       "\n",
       "       Cleanliness  BarService  \n",
       "0                3           4  \n",
       "1                5           2  \n",
       "2                3           1  \n",
       "3                4           3  \n",
       "4                3           5  \n",
       "...            ...         ...  \n",
       "15584            4           3  \n",
       "15585            4           5  \n",
       "15586            4           4  \n",
       "15587            4           5  \n",
       "15588            3           3  \n",
       "\n",
       "[15355 rows x 14 columns]"
      ]
     },
     "execution_count": 36,
     "metadata": {},
     "output_type": "execute_result"
    }
   ],
   "source": [
    "\n",
    "dfSatis=df.iloc[:,7:21]\n",
    "dfSatis"
   ]
  },
  {
   "cell_type": "markdown",
   "metadata": {},
   "source": [
    "- Devemos estandardizar os dados "
   ]
  },
  {
   "cell_type": "code",
   "execution_count": 82,
   "metadata": {},
   "outputs": [],
   "source": [
    "dfSatis_stand = StandardScaler().fit_transform(dfSatis) # Scikit-learn tem um conjunto de classes no módulo de pre-processamento para a estandardização dos dados."
   ]
  },
  {
   "cell_type": "markdown",
   "metadata": {},
   "source": [
    "Ao se aplicar a função de estandardização dos dados, transformamos os dados, num array numpy. Devemos ajustar novamente para um dataframe."
   ]
  },
  {
   "cell_type": "code",
   "execution_count": 83,
   "metadata": {},
   "outputs": [
    {
     "data": {
      "text/html": [
       "<div>\n",
       "<style scoped>\n",
       "    .dataframe tbody tr th:only-of-type {\n",
       "        vertical-align: middle;\n",
       "    }\n",
       "\n",
       "    .dataframe tbody tr th {\n",
       "        vertical-align: top;\n",
       "    }\n",
       "\n",
       "    .dataframe thead th {\n",
       "        text-align: right;\n",
       "    }\n",
       "</style>\n",
       "<table border=\"1\" class=\"dataframe\">\n",
       "  <thead>\n",
       "    <tr style=\"text-align: right;\">\n",
       "      <th></th>\n",
       "      <th>Comfort</th>\n",
       "      <th>ReceptionSchedule</th>\n",
       "      <th>FoodDrink</th>\n",
       "      <th>Location</th>\n",
       "      <th>Wifi</th>\n",
       "      <th>Amenities</th>\n",
       "      <th>Staff</th>\n",
       "      <th>OnlineBooking</th>\n",
       "      <th>PriceQuality</th>\n",
       "      <th>RoomSpace</th>\n",
       "      <th>CheckOut</th>\n",
       "      <th>Checkin</th>\n",
       "      <th>Cleanliness</th>\n",
       "      <th>BarService</th>\n",
       "    </tr>\n",
       "  </thead>\n",
       "  <tbody>\n",
       "    <tr>\n",
       "      <th>0</th>\n",
       "      <td>0.115440</td>\n",
       "      <td>0.660082</td>\n",
       "      <td>-1.283461</td>\n",
       "      <td>0.780559</td>\n",
       "      <td>0.576375</td>\n",
       "      <td>-0.274228</td>\n",
       "      <td>0.376845</td>\n",
       "      <td>-0.344249</td>\n",
       "      <td>-0.360337</td>\n",
       "      <td>-0.364292</td>\n",
       "      <td>-0.605244</td>\n",
       "      <td>0.530474</td>\n",
       "      <td>-0.598754</td>\n",
       "      <td>0.505144</td>\n",
       "    </tr>\n",
       "    <tr>\n",
       "      <th>1</th>\n",
       "      <td>-1.325682</td>\n",
       "      <td>-1.313224</td>\n",
       "      <td>-1.283461</td>\n",
       "      <td>-1.528337</td>\n",
       "      <td>1.332611</td>\n",
       "      <td>-0.274228</td>\n",
       "      <td>0.376845</td>\n",
       "      <td>1.181497</td>\n",
       "      <td>1.215784</td>\n",
       "      <td>1.181570</td>\n",
       "      <td>1.121694</td>\n",
       "      <td>-1.837383</td>\n",
       "      <td>1.132182</td>\n",
       "      <td>-1.033994</td>\n",
       "    </tr>\n",
       "    <tr>\n",
       "      <th>2</th>\n",
       "      <td>0.115440</td>\n",
       "      <td>0.002313</td>\n",
       "      <td>0.108855</td>\n",
       "      <td>0.010927</td>\n",
       "      <td>-1.692334</td>\n",
       "      <td>0.464893</td>\n",
       "      <td>0.376845</td>\n",
       "      <td>-0.344249</td>\n",
       "      <td>-0.360337</td>\n",
       "      <td>-1.137222</td>\n",
       "      <td>-0.605244</td>\n",
       "      <td>-1.048097</td>\n",
       "      <td>-0.598754</td>\n",
       "      <td>-1.803563</td>\n",
       "    </tr>\n",
       "    <tr>\n",
       "      <th>3</th>\n",
       "      <td>-1.325682</td>\n",
       "      <td>-1.313224</td>\n",
       "      <td>-1.283461</td>\n",
       "      <td>-1.528337</td>\n",
       "      <td>0.576375</td>\n",
       "      <td>0.464893</td>\n",
       "      <td>1.134137</td>\n",
       "      <td>0.418624</td>\n",
       "      <td>0.427724</td>\n",
       "      <td>0.408639</td>\n",
       "      <td>0.258225</td>\n",
       "      <td>0.530474</td>\n",
       "      <td>0.266714</td>\n",
       "      <td>-0.264425</td>\n",
       "    </tr>\n",
       "    <tr>\n",
       "      <th>4</th>\n",
       "      <td>-0.605121</td>\n",
       "      <td>-0.655455</td>\n",
       "      <td>0.108855</td>\n",
       "      <td>-0.758705</td>\n",
       "      <td>1.332611</td>\n",
       "      <td>1.204013</td>\n",
       "      <td>1.134137</td>\n",
       "      <td>1.181497</td>\n",
       "      <td>1.215784</td>\n",
       "      <td>-0.364292</td>\n",
       "      <td>0.258225</td>\n",
       "      <td>-1.837383</td>\n",
       "      <td>-0.598754</td>\n",
       "      <td>1.274713</td>\n",
       "    </tr>\n",
       "  </tbody>\n",
       "</table>\n",
       "</div>"
      ],
      "text/plain": [
       "    Comfort  ReceptionSchedule  FoodDrink  Location      Wifi  Amenities  \\\n",
       "0  0.115440           0.660082  -1.283461  0.780559  0.576375  -0.274228   \n",
       "1 -1.325682          -1.313224  -1.283461 -1.528337  1.332611  -0.274228   \n",
       "2  0.115440           0.002313   0.108855  0.010927 -1.692334   0.464893   \n",
       "3 -1.325682          -1.313224  -1.283461 -1.528337  0.576375   0.464893   \n",
       "4 -0.605121          -0.655455   0.108855 -0.758705  1.332611   1.204013   \n",
       "\n",
       "      Staff  OnlineBooking  PriceQuality  RoomSpace  CheckOut   Checkin  \\\n",
       "0  0.376845      -0.344249     -0.360337  -0.364292 -0.605244  0.530474   \n",
       "1  0.376845       1.181497      1.215784   1.181570  1.121694 -1.837383   \n",
       "2  0.376845      -0.344249     -0.360337  -1.137222 -0.605244 -1.048097   \n",
       "3  1.134137       0.418624      0.427724   0.408639  0.258225  0.530474   \n",
       "4  1.134137       1.181497      1.215784  -0.364292  0.258225 -1.837383   \n",
       "\n",
       "   Cleanliness  BarService  \n",
       "0    -0.598754    0.505144  \n",
       "1     1.132182   -1.033994  \n",
       "2    -0.598754   -1.803563  \n",
       "3     0.266714   -0.264425  \n",
       "4    -0.598754    1.274713  "
      ]
     },
     "execution_count": 83,
     "metadata": {},
     "output_type": "execute_result"
    }
   ],
   "source": [
    "dfSatis_stand = pd.DataFrame(dfSatis_stand,columns=dfSatis.columns)\n",
    "dfSatis_stand.head()"
   ]
  },
  {
   "cell_type": "code",
   "execution_count": 84,
   "metadata": {},
   "outputs": [
    {
     "data": {
      "text/plain": [
       "array([[ 0.22433132,  0.04679902,  1.07867138, ...,  0.00435212,\n",
       "        -1.17001159, -0.48440897],\n",
       "       [-0.75066976,  3.07252698, -1.3318316 , ...,  0.82073923,\n",
       "         0.10396972,  0.27010388],\n",
       "       [ 1.8654753 , -0.89985866,  0.04085283, ...,  1.02654568,\n",
       "        -0.25010891,  0.86150093],\n",
       "       ...,\n",
       "       [-0.70019797,  2.90740636, -0.16894675, ...,  0.1910051 ,\n",
       "         0.20936688,  0.13600702],\n",
       "       [-2.26129671, -0.48023139,  1.44576457, ...,  0.05713482,\n",
       "         0.1105797 , -0.00605007],\n",
       "       [ 0.48375506, -0.28963183, -0.51087122, ..., -0.12302005,\n",
       "         0.03396389, -0.44534148]])"
      ]
     },
     "execution_count": 84,
     "metadata": {},
     "output_type": "execute_result"
    }
   ],
   "source": [
    "pca=PCA() #Cria um pca\n",
    "pca.fit(dfSatis_stand) #Determina os scores e a variância que cada componente principal contribuir para a variância total\n",
    "pca_data=pca.transform(dfSatis_stand)#Obtenção das coordenadas para o gráfico do PCA \n"
   ]
  },
  {
   "cell_type": "code",
   "execution_count": 85,
   "metadata": {},
   "outputs": [
    {
     "data": {
      "image/png": "[encoded data removed]",
      "text/plain": [
       "<Figure size 1152x360 with 2 Axes>"
      ]
     },
     "metadata": {
      "needs_background": "light"
     },
     "output_type": "display_data"
    }
   ],
   "source": [
    "fig, axes = plt.subplots(1, 2, figsize=(16,5))\n",
    "per_var=np.round(pca.explained_variance_ratio_*100,decimals=6)  #Calcula a % da variância que é explicada pela componente principal  \n",
    "labels=['PC'+str(x) for x in range(1,len(per_var)+1)]  #Cria diferentes labels, para cada um dos componentes principais.  \n",
    "axes[0].bar(x=range(1,len(per_var)+1),height=per_var,tick_label=labels, color='m') #Cria um gráfico de barras\n",
    "axes[0].set_ylabel('Percentage of Explained Variance, %')\n",
    "axes[0].set_xlabel('Principal Component')\n",
    "axes[0].set_title('Scree Plot')\n",
    "\n",
    "axes[1].plot(labels,np.cumsum(per_var), color='c')\n",
    "axes[1].set_ylabel('Cumulative explained variance, %')\n",
    "axes[1].set_xlabel('Principal Component')\n",
    "axes[1].set_title('PCA plot')\n",
    "plt.show()\n"
   ]
  },
  {
   "cell_type": "code",
   "execution_count": 54,
   "metadata": {},
   "outputs": [
    {
     "data": {
      "text/plain": [
       "array([ 27.554389,  45.741361,  60.971693,  68.299207,  74.696436,\n",
       "        79.398679,  83.048286,  86.436611,  89.615917,  92.260561,\n",
       "        94.714078,  96.846797,  98.635239, 100.      ])"
      ]
     },
     "execution_count": 54,
     "metadata": {},
     "output_type": "execute_result"
    }
   ],
   "source": [
    "np.cumsum(per_var)"
   ]
  },
  {
   "cell_type": "markdown",
   "metadata": {},
   "source": [
    "As primeiras 9 componentes explicam **89,6%** da variância total. Dado que o modelo original possui apenas 14 variáveis, não se assume como necessário o recurso ao PCA.\n"
   ]
  },
  {
   "cell_type": "markdown",
   "metadata": {},
   "source": [
    "<a id='cust_pca'></a>\n",
    "\n",
    "### 4.1.2. Prespetiva do cliente"
   ]
  },
  {
   "cell_type": "code",
   "execution_count": 86,
   "metadata": {},
   "outputs": [
    {
     "data": {
      "text/html": [
       "<div>\n",
       "<style scoped>\n",
       "    .dataframe tbody tr th:only-of-type {\n",
       "        vertical-align: middle;\n",
       "    }\n",
       "\n",
       "    .dataframe tbody tr th {\n",
       "        vertical-align: top;\n",
       "    }\n",
       "\n",
       "    .dataframe thead th {\n",
       "        text-align: right;\n",
       "    }\n",
       "</style>\n",
       "<table border=\"1\" class=\"dataframe\">\n",
       "  <thead>\n",
       "    <tr style=\"text-align: right;\">\n",
       "      <th></th>\n",
       "      <th>Churn</th>\n",
       "      <th>Longevity</th>\n",
       "      <th>Age</th>\n",
       "      <th>TypeTravel</th>\n",
       "      <th>RewardPoints</th>\n",
       "      <th>Gender</th>\n",
       "    </tr>\n",
       "  </thead>\n",
       "  <tbody>\n",
       "    <tr>\n",
       "      <th>0</th>\n",
       "      <td>churn</td>\n",
       "      <td>yes</td>\n",
       "      <td>48</td>\n",
       "      <td>business</td>\n",
       "      <td>4907</td>\n",
       "      <td>Female</td>\n",
       "    </tr>\n",
       "    <tr>\n",
       "      <th>1</th>\n",
       "      <td>nochurn</td>\n",
       "      <td>yes</td>\n",
       "      <td>57</td>\n",
       "      <td>business</td>\n",
       "      <td>6724</td>\n",
       "      <td>Male</td>\n",
       "    </tr>\n",
       "    <tr>\n",
       "      <th>2</th>\n",
       "      <td>churn</td>\n",
       "      <td>yes</td>\n",
       "      <td>49</td>\n",
       "      <td>business</td>\n",
       "      <td>4365</td>\n",
       "      <td>Male</td>\n",
       "    </tr>\n",
       "    <tr>\n",
       "      <th>3</th>\n",
       "      <td>nochurn</td>\n",
       "      <td>yes</td>\n",
       "      <td>29</td>\n",
       "      <td>leisure</td>\n",
       "      <td>3849</td>\n",
       "      <td>Female</td>\n",
       "    </tr>\n",
       "    <tr>\n",
       "      <th>4</th>\n",
       "      <td>nochurn</td>\n",
       "      <td>yes</td>\n",
       "      <td>33</td>\n",
       "      <td>business</td>\n",
       "      <td>5376</td>\n",
       "      <td>Male</td>\n",
       "    </tr>\n",
       "    <tr>\n",
       "      <th>...</th>\n",
       "      <td>...</td>\n",
       "      <td>...</td>\n",
       "      <td>...</td>\n",
       "      <td>...</td>\n",
       "      <td>...</td>\n",
       "      <td>...</td>\n",
       "    </tr>\n",
       "    <tr>\n",
       "      <th>15584</th>\n",
       "      <td>churn</td>\n",
       "      <td>no</td>\n",
       "      <td>34</td>\n",
       "      <td>business</td>\n",
       "      <td>4968</td>\n",
       "      <td>Female</td>\n",
       "    </tr>\n",
       "    <tr>\n",
       "      <th>15585</th>\n",
       "      <td>churn</td>\n",
       "      <td>no</td>\n",
       "      <td>22</td>\n",
       "      <td>business</td>\n",
       "      <td>4970</td>\n",
       "      <td>Female</td>\n",
       "    </tr>\n",
       "    <tr>\n",
       "      <th>15586</th>\n",
       "      <td>nochurn</td>\n",
       "      <td>yes</td>\n",
       "      <td>58</td>\n",
       "      <td>business</td>\n",
       "      <td>4046</td>\n",
       "      <td>Male</td>\n",
       "    </tr>\n",
       "    <tr>\n",
       "      <th>15587</th>\n",
       "      <td>nochurn</td>\n",
       "      <td>yes</td>\n",
       "      <td>30</td>\n",
       "      <td>leisure</td>\n",
       "      <td>5155</td>\n",
       "      <td>Male</td>\n",
       "    </tr>\n",
       "    <tr>\n",
       "      <th>15588</th>\n",
       "      <td>churn</td>\n",
       "      <td>yes</td>\n",
       "      <td>39</td>\n",
       "      <td>business</td>\n",
       "      <td>5136</td>\n",
       "      <td>Male</td>\n",
       "    </tr>\n",
       "  </tbody>\n",
       "</table>\n",
       "<p>15355 rows × 6 columns</p>\n",
       "</div>"
      ],
      "text/plain": [
       "         Churn Longevity  Age TypeTravel  RewardPoints  Gender\n",
       "0        churn       yes   48   business          4907  Female\n",
       "1      nochurn       yes   57   business          6724    Male\n",
       "2        churn       yes   49   business          4365    Male\n",
       "3      nochurn       yes   29    leisure          3849  Female\n",
       "4      nochurn       yes   33   business          5376    Male\n",
       "...        ...       ...  ...        ...           ...     ...\n",
       "15584    churn        no   34   business          4968  Female\n",
       "15585    churn        no   22   business          4970  Female\n",
       "15586  nochurn       yes   58   business          4046    Male\n",
       "15587  nochurn       yes   30    leisure          5155    Male\n",
       "15588    churn       yes   39   business          5136    Male\n",
       "\n",
       "[15355 rows x 6 columns]"
      ]
     },
     "execution_count": 86,
     "metadata": {},
     "output_type": "execute_result"
    }
   ],
   "source": [
    "dfClientes=df[['Churn','Longevity', 'Age', 'TypeTravel', 'RewardPoints','Gender']]\n",
    "dfClientes"
   ]
  },
  {
   "cell_type": "code",
   "execution_count": 87,
   "metadata": {},
   "outputs": [
    {
     "name": "stdout",
     "output_type": "stream",
     "text": [
      "       Churn  Longevity  Age  TypeTravel  RewardPoints  Gender\n",
      "0          1          1   48           1          4907       0\n",
      "1          0          1   57           1          6724       1\n",
      "2          1          1   49           1          4365       1\n",
      "3          0          1   29           0          3849       0\n",
      "4          0          1   33           1          5376       1\n",
      "...      ...        ...  ...         ...           ...     ...\n",
      "15584      1          0   34           1          4968       0\n",
      "15585      1          0   22           1          4970       0\n",
      "15586      0          1   58           1          4046       1\n",
      "15587      0          1   30           0          5155       1\n",
      "15588      1          1   39           1          5136       1\n",
      "\n",
      "[15355 rows x 6 columns]\n"
     ]
    },
    {
     "name": "stderr",
     "output_type": "stream",
     "text": [
      "C:\\Users\\MABCOL~1\\AppData\\Local\\Temp/ipykernel_1500/1883936626.py:2: SettingWithCopyWarning: \n",
      "A value is trying to be set on a copy of a slice from a DataFrame.\n",
      "Try using .loc[row_indexer,col_indexer] = value instead\n",
      "\n",
      "See the caveats in the documentation: https://pandas.pydata.org/pandas-docs/stable/user_guide/indexing.html#returning-a-view-versus-a-copy\n",
      "  dfClientes['Churn']=dfClientes['Churn'].replace('churn',1)\n",
      "C:\\Users\\MABCOL~1\\AppData\\Local\\Temp/ipykernel_1500/1883936626.py:3: SettingWithCopyWarning: \n",
      "A value is trying to be set on a copy of a slice from a DataFrame.\n",
      "Try using .loc[row_indexer,col_indexer] = value instead\n",
      "\n",
      "See the caveats in the documentation: https://pandas.pydata.org/pandas-docs/stable/user_guide/indexing.html#returning-a-view-versus-a-copy\n",
      "  dfClientes['Churn']=dfClientes['Churn'].replace('nochurn',0)\n",
      "C:\\Users\\MABCOL~1\\AppData\\Local\\Temp/ipykernel_1500/1883936626.py:4: SettingWithCopyWarning: \n",
      "A value is trying to be set on a copy of a slice from a DataFrame.\n",
      "Try using .loc[row_indexer,col_indexer] = value instead\n",
      "\n",
      "See the caveats in the documentation: https://pandas.pydata.org/pandas-docs/stable/user_guide/indexing.html#returning-a-view-versus-a-copy\n",
      "  dfClientes['Longevity']=dfClientes['Longevity'].replace('yes',1)\n",
      "C:\\Users\\MABCOL~1\\AppData\\Local\\Temp/ipykernel_1500/1883936626.py:5: SettingWithCopyWarning: \n",
      "A value is trying to be set on a copy of a slice from a DataFrame.\n",
      "Try using .loc[row_indexer,col_indexer] = value instead\n",
      "\n",
      "See the caveats in the documentation: https://pandas.pydata.org/pandas-docs/stable/user_guide/indexing.html#returning-a-view-versus-a-copy\n",
      "  dfClientes['Longevity']=dfClientes['Longevity'].replace('no',0)\n",
      "C:\\Users\\MABCOL~1\\AppData\\Local\\Temp/ipykernel_1500/1883936626.py:6: SettingWithCopyWarning: \n",
      "A value is trying to be set on a copy of a slice from a DataFrame.\n",
      "Try using .loc[row_indexer,col_indexer] = value instead\n",
      "\n",
      "See the caveats in the documentation: https://pandas.pydata.org/pandas-docs/stable/user_guide/indexing.html#returning-a-view-versus-a-copy\n",
      "  dfClientes['TypeTravel']=dfClientes['TypeTravel'].replace('business',1)\n",
      "C:\\Users\\MABCOL~1\\AppData\\Local\\Temp/ipykernel_1500/1883936626.py:7: SettingWithCopyWarning: \n",
      "A value is trying to be set on a copy of a slice from a DataFrame.\n",
      "Try using .loc[row_indexer,col_indexer] = value instead\n",
      "\n",
      "See the caveats in the documentation: https://pandas.pydata.org/pandas-docs/stable/user_guide/indexing.html#returning-a-view-versus-a-copy\n",
      "  dfClientes['TypeTravel']=dfClientes['TypeTravel'].replace('leisure',0)\n",
      "C:\\Users\\MABCOL~1\\AppData\\Local\\Temp/ipykernel_1500/1883936626.py:8: SettingWithCopyWarning: \n",
      "A value is trying to be set on a copy of a slice from a DataFrame.\n",
      "Try using .loc[row_indexer,col_indexer] = value instead\n",
      "\n",
      "See the caveats in the documentation: https://pandas.pydata.org/pandas-docs/stable/user_guide/indexing.html#returning-a-view-versus-a-copy\n",
      "  dfClientes['Gender']=dfClientes['Gender'].replace('Male',1)\n",
      "C:\\Users\\MABCOL~1\\AppData\\Local\\Temp/ipykernel_1500/1883936626.py:9: SettingWithCopyWarning: \n",
      "A value is trying to be set on a copy of a slice from a DataFrame.\n",
      "Try using .loc[row_indexer,col_indexer] = value instead\n",
      "\n",
      "See the caveats in the documentation: https://pandas.pydata.org/pandas-docs/stable/user_guide/indexing.html#returning-a-view-versus-a-copy\n",
      "  dfClientes['Gender']=dfClientes['Gender'].replace('Female',0)\n"
     ]
    }
   ],
   "source": [
    "#dfClientes['Churn']=list(map(lambda x:0 if x=='churn' else 1,dfClientes['Churn']))\n",
    "dfClientes['Churn']=dfClientes['Churn'].replace('churn',1)\n",
    "dfClientes['Churn']=dfClientes['Churn'].replace('nochurn',0)\n",
    "dfClientes['Longevity']=dfClientes['Longevity'].replace('yes',1)\n",
    "dfClientes['Longevity']=dfClientes['Longevity'].replace('no',0)\n",
    "dfClientes['TypeTravel']=dfClientes['TypeTravel'].replace('business',1)\n",
    "dfClientes['TypeTravel']=dfClientes['TypeTravel'].replace('leisure',0)\n",
    "dfClientes['Gender']=dfClientes['Gender'].replace('Male',1)\n",
    "dfClientes['Gender']=dfClientes['Gender'].replace('Female',0)\n",
    "print(dfClientes)"
   ]
  },
  {
   "cell_type": "code",
   "execution_count": 89,
   "metadata": {},
   "outputs": [],
   "source": [
    "dfClientes_normalizado = StandardScaler().fit_transform(dfClientes)"
   ]
  },
  {
   "cell_type": "code",
   "execution_count": 90,
   "metadata": {},
   "outputs": [],
   "source": [
    "dfClientes_stand = pd.DataFrame(dfClientes_normalizado,columns=dfClientes.columns)"
   ]
  },
  {
   "cell_type": "code",
   "execution_count": null,
   "metadata": {},
   "outputs": [],
   "source": [
    "pca=PCA() \n",
    "pca.fit(dfClientes_stand) \n",
    "pca_data=pca.transform(dfClientes_stand)"
   ]
  },
  {
   "cell_type": "code",
   "execution_count": 91,
   "metadata": {},
   "outputs": [
    {
     "data": {
      "image/png": "[encoded data removed]",
      "text/plain": [
       "<Figure size 1152x360 with 2 Axes>"
      ]
     },
     "metadata": {
      "needs_background": "light"
     },
     "output_type": "display_data"
    }
   ],
   "source": [
    "fig, axes = plt.subplots(1, 2, figsize=(16,5))\n",
    "per_var=np.round(pca.explained_variance_ratio_*100,decimals=6)   \n",
    "labels=['PC'+str(x) for x in range(1,len(per_var)+1)] \n",
    "axes[0].bar(x=range(1,len(per_var)+1),height=per_var,tick_label=labels, color='m') \n",
    "axes[0].set_ylabel('Percentage of Explained Variance, %')\n",
    "axes[0].set_xlabel('Principal Component')\n",
    "axes[0].set_title('Scree Plot')\n",
    "\n",
    "axes[1].plot(labels,np.cumsum(per_var), color='c') #Create a bar plot\n",
    "axes[1].set_ylabel('Cumulative explained variance, %')\n",
    "axes[1].set_xlabel('Principal Component')\n",
    "axes[1].set_title('PCA plot')\n",
    "plt.show()"
   ]
  },
  {
   "cell_type": "code",
   "execution_count": 92,
   "metadata": {},
   "outputs": [
    {
     "data": {
      "text/plain": [
       "array([ 27.554389,  45.741361,  60.971693,  68.299207,  74.696436,\n",
       "        79.398679,  83.048286,  86.436611,  89.615917,  92.260561,\n",
       "        94.714078,  96.846797,  98.635239, 100.      ])"
      ]
     },
     "execution_count": 92,
     "metadata": {},
     "output_type": "execute_result"
    }
   ],
   "source": [
    "np.cumsum(per_var)"
   ]
  },
  {
   "cell_type": "code",
   "execution_count": null,
   "metadata": {},
   "outputs": [],
   "source": [
    "- As primeiras 9 componentes explicam **89,6%** da variação dos dados. Não é necessário recorrer a PCA pois temos apenas 14 variáveis."
   ]
  },
  {
   "cell_type": "code",
   "execution_count": 131,
   "metadata": {},
   "outputs": [
    {
     "data": {
      "text/plain": [
       "array([ 0.46754168,  0.00434447, -0.08876444, -0.24799887, -0.57479496,\n",
       "       -0.4046191 ,  0.19263395,  0.14407396,  0.01417342, -0.04935163,\n",
       "       -0.06116053,  0.0624834 , -0.13272917,  0.36350246])"
      ]
     },
     "execution_count": 131,
     "metadata": {},
     "output_type": "execute_result"
    }
   ],
   "source": [
    "#Os pesos das componentes principais ...\n",
    "pca.components_[9]  # Como se definiram 13 componentes, logo sendo a primeira a de zero...só podemos ir até 13.\n"
   ]
  },
  {
   "cell_type": "code",
   "execution_count": 132,
   "metadata": {},
   "outputs": [
    {
     "data": {
      "text/plain": [
       "array([0.27, 0.2 , 0.14, 0.08, 0.06, 0.04, 0.04, 0.03, 0.03, 0.03])"
      ]
     },
     "execution_count": 132,
     "metadata": {},
     "output_type": "execute_result"
    }
   ],
   "source": [
    "#Quantas componentes explicam pelo menos 90% da variância\n",
    "\n",
    "# Variância das componentes principais\n",
    "pca.explained_variance_ratio_\n",
    "#Para apenas se considerar 2 casas décimais\n",
    "np.round(pca.explained_variance_ratio_,2)"
   ]
  },
  {
   "cell_type": "code",
   "execution_count": 133,
   "metadata": {},
   "outputs": [
    {
     "name": "stdout",
     "output_type": "stream",
     "text": [
      "Conclui-se que  0.27 da variabilidade dos dados é explicada pela primeira variavel\n"
     ]
    }
   ],
   "source": [
    "print(\"Conclui-se que \",np.round(pca.explained_variance_ratio_,2)[0], \"da variabilidade dos dados é explicada pela primeira variavel\")"
   ]
  },
  {
   "cell_type": "code",
   "execution_count": 134,
   "metadata": {},
   "outputs": [
    {
     "data": {
      "text/plain": [
       "array([0.27078793, 0.47531384, 0.61205368, 0.68919973, 0.7518017 ,\n",
       "       0.79611752, 0.83430771, 0.86929685, 0.899235  , 0.92434339])"
      ]
     },
     "execution_count": 134,
     "metadata": {},
     "output_type": "execute_result"
    }
   ],
   "source": [
    "pca.explained_variance_ratio_.cumsum()"
   ]
  },
  {
   "cell_type": "markdown",
   "metadata": {},
   "source": [
    "Logo, apenas com 6 componentes principais é que consegue explicar mais de 80% da variabilidade total dos dados."
   ]
  },
  {
   "cell_type": "code",
   "execution_count": 144,
   "metadata": {},
   "outputs": [
    {
     "data": {
      "text/plain": [
       "array([6.58, 4.97, 3.32, 1.87, 1.52, 1.08, 0.33, 0.93, 0.85, 0.73, 0.61,\n",
       "       0.52, 0.49, 0.5 ])"
      ]
     },
     "execution_count": 144,
     "metadata": {},
     "output_type": "execute_result"
    }
   ],
   "source": [
    "np.round(np.linalg.eig(S)[0],2)"
   ]
  },
  {
   "cell_type": "code",
   "execution_count": 150,
   "metadata": {},
   "outputs": [
    {
     "data": {
      "text/plain": [
       "<function matplotlib.pyplot.show(close=None, block=None)>"
      ]
     },
     "execution_count": 150,
     "metadata": {},
     "output_type": "execute_result"
    },
    {
     "data": {
      "image/png": "[encoded data removed]",
      "text/plain": [
       "<Figure size 576x360 with 1 Axes>"
      ]
     },
     "metadata": {
      "needs_background": "light"
     },
     "output_type": "display_data"
    }
   ],
   "source": [
    "fig=plt.figure(figsize=(8,5))\n",
    "plt.plot(pca.explained_variance_ratio_,'ro-',linewidth=2)\n",
    "plt.title(\"Scree Plot\")\n",
    "plt.show"
   ]
  },
  {
   "cell_type": "code",
   "execution_count": 151,
   "metadata": {},
   "outputs": [
    {
     "data": {
      "text/plain": [
       "array([[ 0.1530489 ,  0.13127386,  1.29581181, ..., -0.01563322,\n",
       "         0.21872591,  0.16634506],\n",
       "       [ 0.14164132,  4.20833265, -1.84325092, ..., -0.50767373,\n",
       "         0.18964837, -1.69701304],\n",
       "       [ 2.07142338, -1.54014607,  0.31067527, ...,  1.47493967,\n",
       "        -0.27471613,  0.38611383],\n",
       "       ...,\n",
       "       [-0.02990792,  4.12017155, -0.52880942, ...,  0.49443046,\n",
       "        -0.07282345,  0.30252419],\n",
       "       [-3.22234167,  0.03111298,  1.64487938, ..., -0.22917281,\n",
       "        -1.20252899, -0.14113053],\n",
       "       [ 0.56853605, -0.51505667, -0.64706452, ..., -0.12606375,\n",
       "         0.39108159, -0.08201142]])"
      ]
     },
     "execution_count": 151,
     "metadata": {},
     "output_type": "execute_result"
    }
   ],
   "source": [
    "#Como usamos as componentes principais na prática...\n",
    "pca.transform(X)"
   ]
  },
  {
   "cell_type": "code",
   "execution_count": null,
   "metadata": {},
   "outputs": [],
   "source": []
  }
 ],
 "metadata": {
  "interpreter": {
   "hash": "b3ba2566441a7c06988d0923437866b63cedc61552a5af99d1f4fb67d367b25f"
  },
  "kernelspec": {
   "display_name": "Python 3 (ipykernel)",
   "language": "python",
   "name": "python3"
  },
  "language_info": {
   "codemirror_mode": {
    "name": "ipython",
    "version": 3
   },
   "file_extension": ".py",
   "mimetype": "text/x-python",
   "name": "python",
   "nbconvert_exporter": "python",
   "pygments_lexer": "ipython3",
   "version": "3.9.13"
  }
 },
 "nbformat": 4,
 "nbformat_minor": 2
}
